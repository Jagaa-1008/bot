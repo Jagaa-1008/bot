{
 "cells": [
  {
   "cell_type": "code",
   "execution_count": 7,
   "metadata": {},
   "outputs": [
    {
     "name": "stdout",
     "output_type": "stream",
     "text": [
      "http://api.openweathermap.org/data/2.5/weather?units=metric&q=Tokyo&APPID=80926725eda56fc4889304e886520e20\n",
      "{\n",
      "    \"coord\": {\n",
      "        \"lon\": 139.6917,\n",
      "        \"lat\": 35.6895\n",
      "    },\n",
      "    \"weather\": [\n",
      "        {\n",
      "            \"id\": 801,\n",
      "            \"main\": \"Clouds\",\n",
      "            \"description\": \"few clouds\",\n",
      "            \"icon\": \"02d\"\n",
      "        }\n",
      "    ],\n",
      "    \"base\": \"stations\",\n",
      "    \"main\": {\n",
      "        \"temp\": 19.86,\n",
      "        \"feels_like\": 19.47,\n",
      "        \"temp_min\": 18.64,\n",
      "        \"temp_max\": 21.55,\n",
      "        \"pressure\": 1015,\n",
      "        \"humidity\": 60\n",
      "    },\n",
      "    \"visibility\": 10000,\n",
      "    \"wind\": {\n",
      "        \"speed\": 2.24,\n",
      "        \"deg\": 320,\n",
      "        \"gust\": 2.68\n",
      "    },\n",
      "    \"clouds\": {\n",
      "        \"all\": 20\n",
      "    },\n",
      "    \"dt\": 1635384484,\n",
      "    \"sys\": {\n",
      "        \"type\": 2,\n",
      "        \"id\": 2001249,\n",
      "        \"country\": \"JP\",\n",
      "        \"sunrise\": 1635368341,\n",
      "        \"sunset\": 1635407450\n",
      "    },\n",
      "    \"timezone\": 32400,\n",
      "    \"id\": 1850144,\n",
      "    \"name\": \"Tokyo\",\n",
      "    \"cod\": 200\n",
      "}\n"
     ]
    }
   ],
   "source": [
    "import requests\n",
    "import json\n",
    "#import urllib\n",
    "# import numpy as np\n",
    "\n",
    "days = 7\n",
    "city_name = \"Tokyo\" \n",
    "API_KEY = \"80926725eda56fc4889304e886520e20\"\n",
    "api = \"http://api.openweathermap.org/data/2.5/weather?units=metric&q={city}&APPID={key}\"\n",
    "#api = \"http://api.openweathermap.org/data/2.5/forecast/daily?q={city}&cnt={cnt}&appid={key}\"\n",
    "\n",
    "url = api.format(city = city_name, cnt = days, key = API_KEY)\n",
    "print(url)\n",
    "response = requests.get(url)\n",
    "data = response.json()\n",
    "jsonText = json.dumps(data, indent=4)\n",
    "print(jsonText)"
   ]
  },
  {
   "cell_type": "code",
   "execution_count": 2,
   "metadata": {},
   "outputs": [
    {
     "name": "stdout",
     "output_type": "stream",
     "text": [
      "{'temp': 19.86, 'feels_like': 19.47, 'temp_min': 18.64, 'temp_max': 21.55, 'pressure': 1015, 'humidity': 60}\n"
     ]
    }
   ],
   "source": [
    "data1 = data['main']\n",
    "print(data1)"
   ]
  },
  {
   "cell_type": "code",
   "execution_count": 3,
   "metadata": {},
   "outputs": [
    {
     "name": "stdout",
     "output_type": "stream",
     "text": [
      "19.86\n"
     ]
    }
   ],
   "source": [
    "temp = data1['temp']\n",
    "print(temp)"
   ]
  },
  {
   "cell_type": "code",
   "execution_count": 4,
   "metadata": {},
   "outputs": [
    {
     "name": "stdout",
     "output_type": "stream",
     "text": [
      "{'id': 801, 'main': 'Clouds', 'description': 'few clouds', 'icon': '02d'}\n"
     ]
    }
   ],
   "source": [
    "data2 = data['weather'][0]\n",
    "print (data2)"
   ]
  },
  {
   "cell_type": "code",
   "execution_count": 5,
   "metadata": {},
   "outputs": [
    {
     "name": "stdout",
     "output_type": "stream",
     "text": [
      "few clouds\n"
     ]
    }
   ],
   "source": [
    "di = data2['description']\n",
    "print(di)"
   ]
  },
  {
   "cell_type": "code",
   "execution_count": 2,
   "metadata": {},
   "outputs": [
    {
     "ename": "NameError",
     "evalue": "name 'np' is not defined",
     "output_type": "error",
     "traceback": [
      "\u001b[0;31m---------------------------------------------------------------------------\u001b[0m",
      "\u001b[0;31mNameError\u001b[0m                                 Traceback (most recent call last)",
      "\u001b[0;32m<ipython-input-2-7d50db684ec4>\u001b[0m in \u001b[0;36m<module>\u001b[0;34m\u001b[0m\n\u001b[0;32m----> 1\u001b[0;31m \u001b[0mx\u001b[0m\u001b[0;34m[\u001b[0m\u001b[0;36m4\u001b[0m\u001b[0;34m]\u001b[0m \u001b[0;34m=\u001b[0m \u001b[0mnp\u001b[0m\u001b[0;34m.\u001b[0m\u001b[0mzeros\u001b[0m\u001b[0;34m\u001b[0m\u001b[0;34m\u001b[0m\u001b[0m\n\u001b[0m",
      "\u001b[0;31mNameError\u001b[0m: name 'np' is not defined"
     ]
    }
   ],
   "source": []
  },
  {
   "cell_type": "code",
   "execution_count": null,
   "metadata": {},
   "outputs": [],
   "source": []
  }
 ],
 "metadata": {
  "kernelspec": {
   "display_name": "Python 3",
   "language": "python",
   "name": "python3"
  },
  "language_info": {
   "codemirror_mode": {
    "name": "ipython",
    "version": 3
   },
   "file_extension": ".py",
   "mimetype": "text/x-python",
   "name": "python",
   "nbconvert_exporter": "python",
   "pygments_lexer": "ipython3",
   "version": "3.7.6"
  }
 },
 "nbformat": 4,
 "nbformat_minor": 4
}
