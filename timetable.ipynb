{
 "cells": [
  {
   "cell_type": "code",
   "execution_count": 12,
   "id": "bcaea09f",
   "metadata": {},
   "outputs": [
    {
     "name": "stdout",
     "output_type": "stream",
     "text": [
      "Requirement already satisfied: line-bot-sdk in /opt/anaconda3/lib/python3.8/site-packages (1.20.0)\r\n",
      "Requirement already satisfied: future in /opt/anaconda3/lib/python3.8/site-packages (from line-bot-sdk) (0.18.2)\r\n",
      "Requirement already satisfied: requests>=2.0 in /opt/anaconda3/lib/python3.8/site-packages (from line-bot-sdk) (2.25.1)\r\n",
      "Requirement already satisfied: urllib3<1.27,>=1.21.1 in /opt/anaconda3/lib/python3.8/site-packages (from requests>=2.0->line-bot-sdk) (1.26.4)\r\n",
      "Requirement already satisfied: certifi>=2017.4.17 in /opt/anaconda3/lib/python3.8/site-packages (from requests>=2.0->line-bot-sdk) (2020.12.5)\r\n",
      "Requirement already satisfied: chardet<5,>=3.0.2 in /opt/anaconda3/lib/python3.8/site-packages (from requests>=2.0->line-bot-sdk) (4.0.0)\r\n",
      "Requirement already satisfied: idna<3,>=2.5 in /opt/anaconda3/lib/python3.8/site-packages (from requests>=2.0->line-bot-sdk) (2.10)\r\n"
     ]
    }
   ],
   "source": [
    "!pip install line-bot-sdk"
   ]
  },
  {
   "cell_type": "code",
   "execution_count": 13,
   "id": "7c6d5109",
   "metadata": {},
   "outputs": [
    {
     "name": "stdout",
     "output_type": "stream",
     "text": [
      "{\n",
      "    \"Monday\": {\n",
      "        \"first period\": \"\",\n",
      "        \"second period\": \"\",\n",
      "        \"third period\": \"計算機アーキテクチャ\",\n",
      "        \"fourth period\": \"オブジェクト指向プログラミング\",\n",
      "        \"fifth period\": \"Intercultural Communication\"\n",
      "    },\n",
      "    \"Tuesday\": {\n",
      "        \"first period\": \"English Reading\",\n",
      "        \"second period\": \"代数学\",\n",
      "        \"third period\": \"知能情報システム工学実験1A\",\n",
      "        \"fourth period\": \"知能情報システム工学実験1A\",\n",
      "        \"fifth period\": \"知能情報システム工学実験1A\"\n",
      "    },\n",
      "    \"Wednesday\": {\n",
      "        \"first period\": \"情報化社会と職業\",\n",
      "        \"second period\": \"\",\n",
      "        \"third period\": \"\",\n",
      "        \"fourth period\": \"\",\n",
      "        \"fifth period\": \"計算機アーキテクチャ演習\"\n",
      "    },\n",
      "    \"Thursday\": {\n",
      "        \"first_period\": \"\",\n",
      "        \"second_period\": \"基礎情報数学\",\n",
      "        \"third period\": \"アルゴリズム論\",\n",
      "        \"fourth period\": \"信号処理論\",\n",
      "        \"fifth period\": \"\"\n",
      "    },\n",
      "    \"Friday\": {\n",
      "        \"first period\": \"\",\n",
      "        \"second period\": \"社会言語情報論\",\n",
      "        \"third period\": \"\",\n",
      "        \"fourth period\": \"情報理論\",\n",
      "        \"fifth period\": \"\"\n",
      "    }\n",
      "}\n"
     ]
    }
   ],
   "source": [
    "import json\n",
    "file = open('timetable.json','r')\n",
    "info = json.load(file)\n",
    "#print(info)\n",
    "jsonText = json.dumps(info, indent=4, ensure_ascii=False)\n",
    "print(jsonText)"
   ]
  },
  {
   "cell_type": "code",
   "execution_count": 14,
   "id": "2611db52",
   "metadata": {},
   "outputs": [
    {
     "name": "stdout",
     "output_type": "stream",
     "text": [
      "基礎情報数学\n"
     ]
    }
   ],
   "source": [
    "monday = json.dumps(info['Monday'], indent=4, ensure_ascii=False)\n",
    "tuesday = json.dumps(info['Tuesday'], indent=4, ensure_ascii=False)\n",
    "wednesday = json.dumps(info['Wednesday'], indent=4, ensure_ascii=False)\n",
    "thursday = json.dumps(info['Thursday'], indent=4, ensure_ascii=False)\n",
    "friday = json.dumps(info['Friday'], indent=4, ensure_ascii=False)\n",
    "#saturday = json.dumps(info['Saturday'], indent=4, ensure_ascii=False)\n",
    "#sunday = json.dumps(info['Sunday'], indent=4, ensure_ascii=False)\n",
    "p = info['Thursday']\n",
    "s = p['second_period']\n",
    "print(s)"
   ]
  },
  {
   "cell_type": "code",
   "execution_count": 15,
   "id": "03d6a53c",
   "metadata": {},
   "outputs": [
    {
     "name": "stdout",
     "output_type": "stream",
     "text": [
      "<class 'str'>\n"
     ]
    }
   ],
   "source": [
    "from datetime import date\n",
    "import calendar\n",
    "curr_date = date.today()\n",
    "today = calendar.day_name[curr_date.weekday()]\n",
    "\n",
    "print(type(today) )"
   ]
  },
  {
   "cell_type": "code",
   "execution_count": 16,
   "id": "0708393b",
   "metadata": {},
   "outputs": [
    {
     "name": "stdout",
     "output_type": "stream",
     "text": [
      "{\n",
      "    \"first period\": \"\",\n",
      "    \"second period\": \"社会言語情報論\",\n",
      "    \"third period\": \"\",\n",
      "    \"fourth period\": \"情報理論\",\n",
      "    \"fifth period\": \"\"\n",
      "}\n"
     ]
    }
   ],
   "source": [
    "from linebot import LineBotApi\n",
    "from linebot.models import TextSendMessage\n",
    "file1 = open('info.json', 'r')\n",
    "info1 = json.load(file1)\n",
    "CHANNEL_ACCESS_TOKEN = info1['CHANNEL_ACCESS_TOKEN']\n",
    "line_bot_api = LineBotApi(CHANNEL_ACCESS_TOKEN)\n",
    "\n",
    "def main():\n",
    "    USER_ID1 = info1['USER_ID1']\n",
    "    USER_ID2 = info1['USER_ID2']\n",
    "    if (today == 'Monday'):\n",
    "        messages = monday\n",
    "    elif (today == 'Tuesday'):\n",
    "        messages = tuesday\n",
    "    elif (today == 'Wednesday'):\n",
    "        messages = wednesday\n",
    "    elif (today == 'Thursday'):\n",
    "        messages = thursday\n",
    "    elif (today == 'Friday'):\n",
    "        messages = friday\n",
    "    elif (today == 'Saturday'):\n",
    "        messages = saturday\n",
    "    elif (today == 'Sunday'):\n",
    "        messages = sunday\n",
    "    \n",
    "    print(messages)\n",
    "    line_bot_api.push_message (USER_ID2, messages = TextSendMessage(messages))\n",
    "    \n",
    "if __name__ == '__main__':\n",
    "    main()"
   ]
  },
  {
   "cell_type": "code",
   "execution_count": null,
   "id": "bf1e73d2",
   "metadata": {},
   "outputs": [],
   "source": []
  },
  {
   "cell_type": "code",
   "execution_count": null,
   "id": "99ad07e8",
   "metadata": {},
   "outputs": [],
   "source": []
  }
 ],
 "metadata": {
  "kernelspec": {
   "display_name": "Python 3",
   "language": "python",
   "name": "python3"
  },
  "language_info": {
   "codemirror_mode": {
    "name": "ipython",
    "version": 3
   },
   "file_extension": ".py",
   "mimetype": "text/x-python",
   "name": "python",
   "nbconvert_exporter": "python",
   "pygments_lexer": "ipython3",
   "version": "3.8.8"
  }
 },
 "nbformat": 4,
 "nbformat_minor": 5
}
