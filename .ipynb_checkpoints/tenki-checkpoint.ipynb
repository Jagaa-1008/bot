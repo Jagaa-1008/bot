{
 "cells": [
  {
   "cell_type": "code",
   "execution_count": 7,
   "metadata": {},
   "outputs": [
    {
     "name": "stdout",
     "output_type": "stream",
     "text": [
      "http://api.openweathermap.org/data/2.5/weather?units=metric&q=Tokyo&APPID=80926725eda56fc4889304e886520e20\n",
      "{\n",
      "    \"coord\": {\n",
      "        \"lon\": 139.6917,\n",
      "        \"lat\": 35.6895\n",
      "    },\n",
      "    \"weather\": [\n",
      "        {\n",
      "            \"id\": 801,\n",
      "            \"main\": \"Clouds\",\n",
      "            \"description\": \"few clouds\",\n",
      "            \"icon\": \"02d\"\n",
      "        }\n",
      "    ],\n",
      "    \"base\": \"stations\",\n",
      "    \"main\": {\n",
      "        \"temp\": 19.86,\n",
      "        \"feels_like\": 19.47,\n",
      "        \"temp_min\": 18.64,\n",
      "        \"temp_max\": 21.55,\n",
      "        \"pressure\": 1015,\n",
      "        \"humidity\": 60\n",
      "    },\n",
      "    \"visibility\": 10000,\n",
      "    \"wind\": {\n",
      "        \"speed\": 2.24,\n",
      "        \"deg\": 320,\n",
      "        \"gust\": 2.68\n",
      "    },\n",
      "    \"clouds\": {\n",
      "        \"all\": 20\n",
      "    },\n",
      "    \"dt\": 1635384484,\n",
      "    \"sys\": {\n",
      "        \"type\": 2,\n",
      "        \"id\": 2001249,\n",
      "        \"country\": \"JP\",\n",
      "        \"sunrise\": 1635368341,\n",
      "        \"sunset\": 1635407450\n",
      "    },\n",
      "    \"timezone\": 32400,\n",
      "    \"id\": 1850144,\n",
      "    \"name\": \"Tokyo\",\n",
      "    \"cod\": 200\n",
      "}\n"
     ]
    }
   ],
   "source": [
    "import requests\n",
    "import json\n",
    "#import urllib\n",
    "# import numpy as np\n",
    "\n",
    "days = 7\n",
    "city_name = \"Tokyo\" \n",
    "API_KEY = \"80926725eda56fc4889304e886520e20\"\n",
    "api = \"http://api.openweathermap.org/data/2.5/weather?units=metric&q={city}&APPID={key}\"\n",
    "#api = \"http://api.openweathermap.org/data/2.5/forecast/daily?q={city}&cnt={cnt}&appid={key}\"\n",
    "\n",
    "url = api.format(city = city_name, cnt = days, key = API_KEY)\n",
    "print(url)\n",
    "response = requests.get(url)\n",
    "data = response.json()\n",
    "jsonText = json.dumps(data, indent=4)\n",
    "print(jsonText)"
   ]
  },
  {
   "cell_type": "code",
   "execution_count": 2,
   "metadata": {},
   "outputs": [
    {
     "name": "stdout",
     "output_type": "stream",
     "text": [
      "{'temp': 19.86, 'feels_like': 19.47, 'temp_min': 18.64, 'temp_max': 21.55, 'pressure': 1015, 'humidity': 60}\n"
     ]
    }
   ],
   "source": [
    "city = data['name']\n",
    "data1 = data['main']\n",
    "temp = data1['temp']\n",
    "data2 = data['weather'][0]\n",
    "di = data2['description']\n",
    "print(city)\n",
    "print(temp)\n",
    "print(di)"
   ]
  },
  {
   "cell_type": "code",
   "execution_count": null,
   "metadata": {},
   "outputs": [],
   "source": []
  }
 ],
 "metadata": {
  "kernelspec": {
   "display_name": "Python 3",
   "language": "python",
   "name": "python3"
  },
  "language_info": {
   "codemirror_mode": {
    "name": "ipython",
    "version": 3
   },
   "file_extension": ".py",
   "mimetype": "text/x-python",
   "name": "python",
   "nbconvert_exporter": "python",
   "pygments_lexer": "ipython3",
   "version": "3.7.6"
  }
 },
 "nbformat": 4,
 "nbformat_minor": 4
}
